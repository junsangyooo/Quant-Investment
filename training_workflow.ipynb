{
 "cells": [
  {
   "cell_type": "markdown",
   "id": "3aa3c164",
   "metadata": {},
   "source": [
    "# ==============================\n",
    "# Cell 1: Import libraries\n",
    "# ==============================\n",
    "import pandas as pd\n",
    "import numpy as np\n",
    "import os\n",
    "from sklearn.model_selection import train_test_split\n",
    "from sklearn.ensemble import RandomForestClassifier\n",
    "from sklearn.metrics import accuracy_score, classification_report"
   ]
  },
  {
   "cell_type": "code",
   "execution_count": null,
   "id": "ec58e640",
   "metadata": {
    "vscode": {
     "languageId": "plaintext"
    }
   },
   "outputs": [],
   "source": [
    "# ==============================\n",
    "# Cell 2: Load data\n",
    "# ==============================\n",
    "# Choose one stock file from processed_data (e.g., AAPL.csv)\n",
    "file_path = \"processed_data/AAPL.csv\"\n",
    "\n",
    "df = pd.read_csv(file_path)\n",
    "print(\"Data shape:\", df.shape)\n",
    "df.head()"
   ]
  },
  {
   "cell_type": "code",
   "execution_count": null,
   "id": "e5cf645f",
   "metadata": {
    "vscode": {
     "languageId": "plaintext"
    }
   },
   "outputs": [],
   "source": [
    "# ==============================\n",
    "# Cell 3: Create Target\n",
    "# ==============================\n",
    "# Label = 1 if stock rises >= threshold within 'period' days, else 0\n",
    "period = 30\n",
    "threshold = 0.1\n",
    "\n",
    "future_price = df[\"Adj Close\"].shift(-period)\n",
    "df[\"Target\"] = ((future_price / df[\"Adj Close\"] - 1) >= threshold).astype(int)\n",
    "\n",
    "# Drop rows with NaN (due to shifting)\n",
    "df.dropna(inplace=True)\n",
    "\n",
    "df[[\"Date\", \"Adj Close\", \"Target\"]].tail(10)"
   ]
  },
  {
   "cell_type": "code",
   "execution_count": null,
   "id": "df40d5bb",
   "metadata": {
    "vscode": {
     "languageId": "plaintext"
    }
   },
   "outputs": [],
   "source": [
    "# ==============================\n",
    "# Cell 4: Split Features / Target\n",
    "# ==============================\n",
    "drop_cols = [\"Date\",\"Open\",\"High\",\"Low\",\"Close\",\"Adj Close\",\"Target\"]\n",
    "feature_cols = [c for c in df.columns if c not in drop_cols]\n",
    "\n",
    "X = df[feature_cols]\n",
    "y = df[\"Target\"]\n",
    "\n",
    "print(\"Features used:\", feature_cols)\n",
    "print(\"Number of features:\", len(feature_cols))"
   ]
  },
  {
   "cell_type": "code",
   "execution_count": null,
   "id": "10dce179",
   "metadata": {
    "vscode": {
     "languageId": "plaintext"
    }
   },
   "outputs": [],
   "source": [
    "# ==============================\n",
    "# Cell 5: Train/Test Split\n",
    "# ==============================\n",
    "X_train, X_test, y_train, y_test = train_test_split(\n",
    "    X, y, test_size=0.2, shuffle=False\n",
    ")\n",
    "\n",
    "print(\"Train shape:\", X_train.shape)\n",
    "print(\"Test shape:\", X_test.shape)"
   ]
  },
  {
   "cell_type": "code",
   "execution_count": null,
   "id": "9ad9e1b4",
   "metadata": {
    "vscode": {
     "languageId": "plaintext"
    }
   },
   "outputs": [],
   "source": [
    "# ==============================\n",
    "# Cell 6: Train Model (Random Forest)\n",
    "# ==============================\n",
    "model = RandomForestClassifier(\n",
    "    n_estimators=100,\n",
    "    max_depth=6,\n",
    "    random_state=42,\n",
    "    n_jobs=-1\n",
    ")\n",
    "model.fit(X_train, y_train)\n",
    "\n",
    "print(\"Model training complete ✅\")"
   ]
  },
  {
   "cell_type": "code",
   "execution_count": null,
   "id": "629ecbc1",
   "metadata": {
    "vscode": {
     "languageId": "plaintext"
    }
   },
   "outputs": [],
   "source": [
    "# ==============================\n",
    "# Cell 7: Evaluate Model\n",
    "# ==============================\n",
    "y_pred = model.predict(X_test)\n",
    "\n",
    "print(\"Accuracy:\", accuracy_score(y_test, y_pred))\n",
    "print(\"\\n=== Classification Report ===\")\n",
    "print(classification_report(y_test, y_pred))"
   ]
  },
  {
   "cell_type": "code",
   "execution_count": null,
   "id": "6e8b010e",
   "metadata": {
    "vscode": {
     "languageId": "plaintext"
    }
   },
   "outputs": [],
   "source": [
    "# ==============================\n",
    "# Cell 8: Probability-based Recommendation\n",
    "# ==============================\n",
    "proba = model.predict_proba(X_test)[:,1]  # probability of upward movement\n",
    "\n",
    "df_test = df.iloc[X_test.index].copy()\n",
    "df_test[\"ProbUp\"] = proba\n",
    "\n",
    "# Show last 10 rows with prediction probability\n",
    "df_test.tail(10)[[\"Date\",\"Adj Close\",\"ProbUp\",\"Target\"]]"
   ]
  }
 ],
 "metadata": {
  "language_info": {
   "name": "python"
  }
 },
 "nbformat": 4,
 "nbformat_minor": 5
}
